{
 "cells": [
  {
   "cell_type": "code",
   "execution_count": 15,
   "metadata": {
    "collapsed": true
   },
   "outputs": [],
   "source": [
    "import pandas as pd\n",
    "import numpy as np\n",
    "import matplotlib.pyplot as plt \n",
    "%matplotlib inline"
   ]
  },
  {
   "cell_type": "code",
   "execution_count": 16,
   "metadata": {
    "collapsed": true
   },
   "outputs": [],
   "source": [
    "import tabpy_client\n",
    "client = tabpy_client.Client('http://localhost:9004/')"
   ]
  },
  {
   "cell_type": "markdown",
   "metadata": {},
   "source": [
    "## Load Data"
   ]
  },
  {
   "cell_type": "code",
   "execution_count": 17,
   "metadata": {
    "collapsed": true
   },
   "outputs": [],
   "source": [
    "df5_log2_ratio = pd.read_csv('./df5_log2_ratio.csv', index_col = 0)"
   ]
  },
  {
   "cell_type": "code",
   "execution_count": 18,
   "metadata": {},
   "outputs": [
    {
     "data": {
      "text/plain": [
       "(4410, 40)"
      ]
     },
     "execution_count": 18,
     "metadata": {},
     "output_type": "execute_result"
    }
   ],
   "source": [
    "df5_log2_ratio.shape"
   ]
  },
  {
   "cell_type": "code",
   "execution_count": 19,
   "metadata": {
    "scrolled": false
   },
   "outputs": [
    {
     "data": {
      "text/html": [
       "<div>\n",
       "<style>\n",
       "    .dataframe thead tr:only-child th {\n",
       "        text-align: right;\n",
       "    }\n",
       "\n",
       "    .dataframe thead th {\n",
       "        text-align: left;\n",
       "    }\n",
       "\n",
       "    .dataframe tbody tr th {\n",
       "        vertical-align: top;\n",
       "    }\n",
       "</style>\n",
       "<table border=\"1\" class=\"dataframe\">\n",
       "  <thead>\n",
       "    <tr style=\"text-align: right;\">\n",
       "      <th></th>\n",
       "      <th>FM18_CH3OH_4.1/day</th>\n",
       "      <th>FM18_CH3OH_4.1/day_R1</th>\n",
       "      <th>FM20_no-lim_5.2/day</th>\n",
       "      <th>FM20_no-lim_5.2/day_R1</th>\n",
       "      <th>FM21_no-lim_5.4/day</th>\n",
       "      <th>FM21_no-lim_5.4/day_R1</th>\n",
       "      <th>FM21_no-lim_5.4/day_R2</th>\n",
       "      <th>FM12_CH4-lim_3.0/day</th>\n",
       "      <th>FM12_CH4-lim_3.0/day_R1</th>\n",
       "      <th>FM14_CH4-lim_3.0/day</th>\n",
       "      <th>...</th>\n",
       "      <th>FM34_+Cu_2.7/day_t480m</th>\n",
       "      <th>FM69_O2-lim+_0.7/day_t2</th>\n",
       "      <th>FM69_?-lim_0.7/day_t3</th>\n",
       "      <th>FM69_?-lim_0.7/day_t3_R1</th>\n",
       "      <th>FM69_?-lim_0.7/day_t4</th>\n",
       "      <th>FM69_?-lim_0.7/day_t4_R2</th>\n",
       "      <th>FM80_O2-lim_0.7/day_t2</th>\n",
       "      <th>FM80_O2-lim_0.7/day_t4</th>\n",
       "      <th>FM81_O2-lim+_0.7/day_t1</th>\n",
       "      <th>FM81_O2-lim_0.7/day_t2</th>\n",
       "    </tr>\n",
       "    <tr>\n",
       "      <th>locus_tag</th>\n",
       "      <th></th>\n",
       "      <th></th>\n",
       "      <th></th>\n",
       "      <th></th>\n",
       "      <th></th>\n",
       "      <th></th>\n",
       "      <th></th>\n",
       "      <th></th>\n",
       "      <th></th>\n",
       "      <th></th>\n",
       "      <th></th>\n",
       "      <th></th>\n",
       "      <th></th>\n",
       "      <th></th>\n",
       "      <th></th>\n",
       "      <th></th>\n",
       "      <th></th>\n",
       "      <th></th>\n",
       "      <th></th>\n",
       "      <th></th>\n",
       "      <th></th>\n",
       "    </tr>\n",
       "  </thead>\n",
       "  <tbody>\n",
       "    <tr>\n",
       "      <th>MBURv2_100001</th>\n",
       "      <td>0.192390</td>\n",
       "      <td>0.399056</td>\n",
       "      <td>0.226044</td>\n",
       "      <td>0.031919</td>\n",
       "      <td>-0.259212</td>\n",
       "      <td>0.024218</td>\n",
       "      <td>-0.375939</td>\n",
       "      <td>-0.662138</td>\n",
       "      <td>-0.664962</td>\n",
       "      <td>-0.340741</td>\n",
       "      <td>...</td>\n",
       "      <td>-0.169520</td>\n",
       "      <td>-0.714689</td>\n",
       "      <td>0.375098</td>\n",
       "      <td>0.230305</td>\n",
       "      <td>0.045003</td>\n",
       "      <td>-0.026448</td>\n",
       "      <td>-0.136418</td>\n",
       "      <td>-0.239295</td>\n",
       "      <td>-0.400820</td>\n",
       "      <td>-0.313184</td>\n",
       "    </tr>\n",
       "    <tr>\n",
       "      <th>MBURv2_100002</th>\n",
       "      <td>-0.405649</td>\n",
       "      <td>-0.309960</td>\n",
       "      <td>-0.581343</td>\n",
       "      <td>-1.050033</td>\n",
       "      <td>-1.235838</td>\n",
       "      <td>-0.529028</td>\n",
       "      <td>-1.161497</td>\n",
       "      <td>-1.274654</td>\n",
       "      <td>-1.243865</td>\n",
       "      <td>-1.715639</td>\n",
       "      <td>...</td>\n",
       "      <td>-2.717254</td>\n",
       "      <td>-2.980653</td>\n",
       "      <td>-0.202880</td>\n",
       "      <td>-2.423929</td>\n",
       "      <td>-0.404706</td>\n",
       "      <td>-1.477967</td>\n",
       "      <td>-1.135770</td>\n",
       "      <td>-1.251409</td>\n",
       "      <td>-1.323482</td>\n",
       "      <td>-1.384361</td>\n",
       "    </tr>\n",
       "    <tr>\n",
       "      <th>MBURv2_10001</th>\n",
       "      <td>-0.349818</td>\n",
       "      <td>-0.432159</td>\n",
       "      <td>-0.748817</td>\n",
       "      <td>-1.126519</td>\n",
       "      <td>-1.176547</td>\n",
       "      <td>-0.974533</td>\n",
       "      <td>-1.157318</td>\n",
       "      <td>-1.812235</td>\n",
       "      <td>-1.774428</td>\n",
       "      <td>-1.724550</td>\n",
       "      <td>...</td>\n",
       "      <td>-2.819275</td>\n",
       "      <td>-2.497711</td>\n",
       "      <td>-1.428475</td>\n",
       "      <td>-1.240548</td>\n",
       "      <td>-1.345572</td>\n",
       "      <td>-1.410063</td>\n",
       "      <td>-2.228331</td>\n",
       "      <td>-1.943554</td>\n",
       "      <td>-2.684422</td>\n",
       "      <td>-2.403920</td>\n",
       "    </tr>\n",
       "    <tr>\n",
       "      <th>MBURv2_10002</th>\n",
       "      <td>-0.429268</td>\n",
       "      <td>0.644220</td>\n",
       "      <td>0.573052</td>\n",
       "      <td>0.232233</td>\n",
       "      <td>-0.060841</td>\n",
       "      <td>0.395560</td>\n",
       "      <td>-0.097191</td>\n",
       "      <td>-1.325059</td>\n",
       "      <td>-1.769956</td>\n",
       "      <td>-0.577714</td>\n",
       "      <td>...</td>\n",
       "      <td>0.187883</td>\n",
       "      <td>-0.253695</td>\n",
       "      <td>0.061458</td>\n",
       "      <td>-0.387287</td>\n",
       "      <td>0.545962</td>\n",
       "      <td>0.114193</td>\n",
       "      <td>-0.076866</td>\n",
       "      <td>-0.000965</td>\n",
       "      <td>-0.226299</td>\n",
       "      <td>-0.229278</td>\n",
       "    </tr>\n",
       "    <tr>\n",
       "      <th>MBURv2_10003</th>\n",
       "      <td>-0.475120</td>\n",
       "      <td>-0.160000</td>\n",
       "      <td>-0.398919</td>\n",
       "      <td>-0.153891</td>\n",
       "      <td>-0.364631</td>\n",
       "      <td>-0.543518</td>\n",
       "      <td>-0.403339</td>\n",
       "      <td>-1.106884</td>\n",
       "      <td>-1.116421</td>\n",
       "      <td>-0.932348</td>\n",
       "      <td>...</td>\n",
       "      <td>-0.737528</td>\n",
       "      <td>-1.391160</td>\n",
       "      <td>-0.835128</td>\n",
       "      <td>-1.039627</td>\n",
       "      <td>-0.662973</td>\n",
       "      <td>-0.845406</td>\n",
       "      <td>-1.228497</td>\n",
       "      <td>-1.149969</td>\n",
       "      <td>-1.464724</td>\n",
       "      <td>-1.412012</td>\n",
       "    </tr>\n",
       "  </tbody>\n",
       "</table>\n",
       "<p>5 rows × 40 columns</p>\n",
       "</div>"
      ],
      "text/plain": [
       "               FM18_CH3OH_4.1/day  FM18_CH3OH_4.1/day_R1  FM20_no-lim_5.2/day  \\\n",
       "locus_tag                                                                       \n",
       "MBURv2_100001            0.192390               0.399056             0.226044   \n",
       "MBURv2_100002           -0.405649              -0.309960            -0.581343   \n",
       "MBURv2_10001            -0.349818              -0.432159            -0.748817   \n",
       "MBURv2_10002            -0.429268               0.644220             0.573052   \n",
       "MBURv2_10003            -0.475120              -0.160000            -0.398919   \n",
       "\n",
       "               FM20_no-lim_5.2/day_R1  FM21_no-lim_5.4/day  \\\n",
       "locus_tag                                                    \n",
       "MBURv2_100001                0.031919            -0.259212   \n",
       "MBURv2_100002               -1.050033            -1.235838   \n",
       "MBURv2_10001                -1.126519            -1.176547   \n",
       "MBURv2_10002                 0.232233            -0.060841   \n",
       "MBURv2_10003                -0.153891            -0.364631   \n",
       "\n",
       "               FM21_no-lim_5.4/day_R1  FM21_no-lim_5.4/day_R2  \\\n",
       "locus_tag                                                       \n",
       "MBURv2_100001                0.024218               -0.375939   \n",
       "MBURv2_100002               -0.529028               -1.161497   \n",
       "MBURv2_10001                -0.974533               -1.157318   \n",
       "MBURv2_10002                 0.395560               -0.097191   \n",
       "MBURv2_10003                -0.543518               -0.403339   \n",
       "\n",
       "               FM12_CH4-lim_3.0/day  FM12_CH4-lim_3.0/day_R1  \\\n",
       "locus_tag                                                      \n",
       "MBURv2_100001             -0.662138                -0.664962   \n",
       "MBURv2_100002             -1.274654                -1.243865   \n",
       "MBURv2_10001              -1.812235                -1.774428   \n",
       "MBURv2_10002              -1.325059                -1.769956   \n",
       "MBURv2_10003              -1.106884                -1.116421   \n",
       "\n",
       "               FM14_CH4-lim_3.0/day           ...            \\\n",
       "locus_tag                                     ...             \n",
       "MBURv2_100001             -0.340741           ...             \n",
       "MBURv2_100002             -1.715639           ...             \n",
       "MBURv2_10001              -1.724550           ...             \n",
       "MBURv2_10002              -0.577714           ...             \n",
       "MBURv2_10003              -0.932348           ...             \n",
       "\n",
       "               FM34_+Cu_2.7/day_t480m  FM69_O2-lim+_0.7/day_t2  \\\n",
       "locus_tag                                                        \n",
       "MBURv2_100001               -0.169520                -0.714689   \n",
       "MBURv2_100002               -2.717254                -2.980653   \n",
       "MBURv2_10001                -2.819275                -2.497711   \n",
       "MBURv2_10002                 0.187883                -0.253695   \n",
       "MBURv2_10003                -0.737528                -1.391160   \n",
       "\n",
       "               FM69_?-lim_0.7/day_t3  FM69_?-lim_0.7/day_t3_R1  \\\n",
       "locus_tag                                                        \n",
       "MBURv2_100001               0.375098                  0.230305   \n",
       "MBURv2_100002              -0.202880                 -2.423929   \n",
       "MBURv2_10001               -1.428475                 -1.240548   \n",
       "MBURv2_10002                0.061458                 -0.387287   \n",
       "MBURv2_10003               -0.835128                 -1.039627   \n",
       "\n",
       "               FM69_?-lim_0.7/day_t4  FM69_?-lim_0.7/day_t4_R2  \\\n",
       "locus_tag                                                        \n",
       "MBURv2_100001               0.045003                 -0.026448   \n",
       "MBURv2_100002              -0.404706                 -1.477967   \n",
       "MBURv2_10001               -1.345572                 -1.410063   \n",
       "MBURv2_10002                0.545962                  0.114193   \n",
       "MBURv2_10003               -0.662973                 -0.845406   \n",
       "\n",
       "               FM80_O2-lim_0.7/day_t2  FM80_O2-lim_0.7/day_t4  \\\n",
       "locus_tag                                                       \n",
       "MBURv2_100001               -0.136418               -0.239295   \n",
       "MBURv2_100002               -1.135770               -1.251409   \n",
       "MBURv2_10001                -2.228331               -1.943554   \n",
       "MBURv2_10002                -0.076866               -0.000965   \n",
       "MBURv2_10003                -1.228497               -1.149969   \n",
       "\n",
       "               FM81_O2-lim+_0.7/day_t1  FM81_O2-lim_0.7/day_t2  \n",
       "locus_tag                                                       \n",
       "MBURv2_100001                -0.400820               -0.313184  \n",
       "MBURv2_100002                -1.323482               -1.384361  \n",
       "MBURv2_10001                 -2.684422               -2.403920  \n",
       "MBURv2_10002                 -0.226299               -0.229278  \n",
       "MBURv2_10003                 -1.464724               -1.412012  \n",
       "\n",
       "[5 rows x 40 columns]"
      ]
     },
     "execution_count": 19,
     "metadata": {},
     "output_type": "execute_result"
    }
   ],
   "source": [
    "df5_log2_ratio.head()"
   ]
  },
  {
   "cell_type": "code",
   "execution_count": 20,
   "metadata": {
    "scrolled": true
   },
   "outputs": [
    {
     "name": "stdout",
     "output_type": "stream",
     "text": [
      "SUM([FM18_CH3OH_4.1/day]),SUM([FM18_CH3OH_4.1/day_R1]),SUM([FM20_no-lim_5.2/day]),SUM([FM20_no-lim_5.2/day_R1]),SUM([FM21_no-lim_5.4/day]),SUM([FM21_no-lim_5.4/day_R1]),SUM([FM21_no-lim_5.4/day_R2]),SUM([FM12_CH4-lim_3.0/day]),SUM([FM12_CH4-lim_3.0/day_R1]),SUM([FM14_CH4-lim_3.0/day]),SUM([FM14_CH4-lim_3.0/day_R1]),SUM([FM19_O2-lim_3.5.day]),SUM([FM19_O2-lim_3.5.day_R1]),SUM([FM19_O2-lim_3.5.day_R2]),SUM([FM22_O2-lim_4.2/day]),SUM([FM22_O2-lim_4.2/day_R1]),SUM([FM22_O2-lim_4.2/day_R2]),SUM([FM34_-Cu_2.7/day_t0]),SUM([FM40_-Cu_2.9/day_t0m]),SUM([FM40_+Cu_2.9/day_t10m]),SUM([FM40_+Cu_2.9/day_t20m]),SUM([FM40_+Cu_2.9/day_t40m]),SUM([FM40_+Cu_2.9/day_t60m]),SUM([FM40_+Cu_2.9/day_t90m]),SUM([FM40_+Cu_2.9/day_t180m]),SUM([FM34_+Cu_2.7/day_t180m]),SUM([FM34_+Cu_2.7/day_t240m]),SUM([FM34_+Cu_2.7/day_t300m]),SUM([FM34_+Cu_2.7/day_t360m]),SUM([FM34_+Cu_2.7/day_t420m]),SUM([FM34_+Cu_2.7/day_t480m]),SUM([FM69_O2-lim+_0.7/day_t2]),SUM([FM69_?-lim_0.7/day_t3]),SUM([FM69_?-lim_0.7/day_t3_R1]),SUM([FM69_?-lim_0.7/day_t4]),SUM([FM69_?-lim_0.7/day_t4_R2]),SUM([FM80_O2-lim_0.7/day_t2]),SUM([FM80_O2-lim_0.7/day_t4]),SUM([FM81_O2-lim+_0.7/day_t1]),SUM([FM81_O2-lim_0.7/day_t2]),\n"
     ]
    }
   ],
   "source": [
    "sample_list = df5_log2_ratio.columns.tolist()\n",
    "sample_sum = \"\"\n",
    "for i in sample_list:\n",
    "    sample_sum += \"SUM([%s]),\"%i\n",
    "print(sample_sum)"
   ]
  },
  {
   "cell_type": "code",
   "execution_count": 21,
   "metadata": {
    "scrolled": true
   },
   "outputs": [
    {
     "name": "stdout",
     "output_type": "stream",
     "text": [
      "sample_1, sample_2, sample_3, sample_4, sample_5, sample_6, sample_7, sample_8, sample_9, sample_10, sample_11, sample_12, sample_13, sample_14, sample_15, sample_16, sample_17, sample_18, sample_19, sample_20, sample_21, sample_22, sample_23, sample_24, sample_25, sample_26, sample_27, sample_28, sample_29, sample_30, sample_31, sample_32, sample_33, sample_34, sample_35, sample_36, sample_37, sample_38, sample_39, sample_40, \n"
     ]
    }
   ],
   "source": [
    "a = \"\"\n",
    "for i in range(1, 41):\n",
    "    a += \"sample_%d, \" % i\n",
    "print(a)"
   ]
  },
  {
   "cell_type": "code",
   "execution_count": 22,
   "metadata": {
    "scrolled": true
   },
   "outputs": [
    {
     "name": "stdout",
     "output_type": "stream",
     "text": [
      "_arg1, _arg2, _arg3, _arg4, _arg5, _arg6, _arg7, _arg8, _arg9, _arg10, _arg11, _arg12, _arg13, _arg14, _arg15, _arg16, _arg17, _arg18, _arg19, _arg20, _arg21, _arg22, _arg23, _arg24, _arg25, _arg26, _arg27, _arg28, _arg29, _arg30, _arg31, _arg32, _arg33, _arg34, _arg35, _arg36, _arg37, _arg38, _arg39, _arg40, \n"
     ]
    }
   ],
   "source": [
    "B = \"\"\n",
    "for i in range(1, 41):\n",
    "    B += \"_arg%d, \" % i\n",
    "print(B)"
   ]
  },
  {
   "cell_type": "markdown",
   "metadata": {},
   "source": [
    "## K-Means Clustering for Transcriptomics Data (Choose K = 15)"
   ]
  },
  {
   "cell_type": "code",
   "execution_count": 23,
   "metadata": {
    "collapsed": true
   },
   "outputs": [],
   "source": [
    "# return a cluster id of each gene\n",
    "def clustering(sample_1, sample_2, sample_3, sample_4, sample_5, sample_6, sample_7, sample_8, sample_9, \n",
    "               sample_10, sample_11, sample_12, sample_13, sample_14, sample_15, sample_16, sample_17, sample_18, \n",
    "               sample_19, sample_20, sample_21, sample_22, sample_23, sample_24, sample_25, sample_26, sample_27, \n",
    "               sample_28, sample_29, sample_30, sample_31, sample_32, sample_33, sample_34, sample_35, sample_36, \n",
    "               sample_37, sample_38, sample_39, sample_40):\n",
    "    import numpy as np\n",
    "    from sklearn.cluster import KMeans\n",
    "    \n",
    "    X = np.column_stack([sample_1, sample_2, sample_3, sample_4, sample_5, sample_6, sample_7, sample_8, sample_9, \n",
    "               sample_10, sample_11, sample_12, sample_13, sample_14, sample_15, sample_16, sample_17, sample_18, \n",
    "               sample_19, sample_20, sample_21, sample_22, sample_23, sample_24, sample_25, sample_26, sample_27, \n",
    "               sample_28, sample_29, sample_30, sample_31, sample_32, sample_33, sample_34, sample_35, sample_36, \n",
    "               sample_37, sample_38, sample_39, sample_40])\n",
    "    #fit kmeans model with k clusters\n",
    "    kmeans = KMeans(n_clusters=15, max_iter=300, random_state=4) \n",
    "    kmeans.fit(X)\n",
    "    \n",
    "    return kmeans.labels_.astype(str).tolist()"
   ]
  },
  {
   "cell_type": "code",
   "execution_count": 24,
   "metadata": {
    "collapsed": true
   },
   "outputs": [],
   "source": [
    "client.deploy('clustering', clustering, \n",
    "              'Returns cluster Ids for each data point specified by 40 samples',override = True)"
   ]
  },
  {
   "cell_type": "code",
   "execution_count": null,
   "metadata": {
    "collapsed": true
   },
   "outputs": [],
   "source": []
  },
  {
   "cell_type": "markdown",
   "metadata": {},
   "source": [
    "### K-Means Clustering with parameter K"
   ]
  },
  {
   "cell_type": "code",
   "execution_count": 25,
   "metadata": {
    "collapsed": true
   },
   "outputs": [],
   "source": [
    "# return a cluster id of each gene\n",
    "def clustering_with_k(k, sample_1, sample_2, sample_3, sample_4, sample_5, sample_6, sample_7, sample_8, sample_9, \n",
    "                      sample_10, sample_11, sample_12, sample_13, sample_14, sample_15, sample_16, sample_17, sample_18, \n",
    "                      sample_19, sample_20, sample_21, sample_22, sample_23, sample_24, sample_25, sample_26, sample_27, \n",
    "                      sample_28, sample_29, sample_30, sample_31, sample_32, sample_33, sample_34, sample_35, sample_36, \n",
    "                      sample_37, sample_38, sample_39, sample_40):\n",
    "    import numpy as np\n",
    "    from sklearn.cluster import KMeans\n",
    "    \n",
    "    X = np.column_stack([sample_1, sample_2, sample_3, sample_4, sample_5, sample_6, sample_7, sample_8, sample_9, \n",
    "               sample_10, sample_11, sample_12, sample_13, sample_14, sample_15, sample_16, sample_17, sample_18, \n",
    "               sample_19, sample_20, sample_21, sample_22, sample_23, sample_24, sample_25, sample_26, sample_27, \n",
    "               sample_28, sample_29, sample_30, sample_31, sample_32, sample_33, sample_34, sample_35, sample_36, \n",
    "               sample_37, sample_38, sample_39, sample_40])\n",
    "    #fit kmeans model with k clusters\n",
    "    kmeans = KMeans(n_clusters=k, max_iter=300, random_state=3) \n",
    "    kmeans.fit(X)\n",
    "    \n",
    "    return kmeans.labels_.astype(str).tolist()"
   ]
  },
  {
   "cell_type": "code",
   "execution_count": 26,
   "metadata": {
    "collapsed": true
   },
   "outputs": [],
   "source": [
    "client.deploy('clustering_with_k', clustering_with_k, \n",
    "              'Returns cluster Ids for each data point by choosing different K value',override = True)"
   ]
  },
  {
   "cell_type": "code",
   "execution_count": null,
   "metadata": {
    "collapsed": true
   },
   "outputs": [],
   "source": []
  },
  {
   "cell_type": "code",
   "execution_count": null,
   "metadata": {
    "collapsed": true
   },
   "outputs": [],
   "source": []
  },
  {
   "cell_type": "code",
   "execution_count": 11,
   "metadata": {
    "collapsed": true
   },
   "outputs": [],
   "source": [
    "# Number of genes in each cluster\n",
    "def genes_num(sample_1, sample_2, sample_3, sample_4, sample_5, sample_6, sample_7, sample_8, sample_9, \n",
    "               sample_10, sample_11, sample_12, sample_13, sample_14, sample_15, sample_16, sample_17, sample_18, \n",
    "               sample_19, sample_20, sample_21, sample_22, sample_23, sample_24, sample_25, sample_26, sample_27, \n",
    "               sample_28, sample_29, sample_30, sample_31, sample_32, sample_33, sample_34, sample_35, sample_36, \n",
    "               sample_37, sample_38, sample_39, sample_40):\n",
    "    import numpy as np\n",
    "    from sklearn.cluster import KMeans\n",
    "    \n",
    "    X = np.column_stack([sample_1, sample_2, sample_3, sample_4, sample_5, sample_6, sample_7, sample_8, sample_9, \n",
    "               sample_10, sample_11, sample_12, sample_13, sample_14, sample_15, sample_16, sample_17, sample_18, \n",
    "               sample_19, sample_20, sample_21, sample_22, sample_23, sample_24, sample_25, sample_26, sample_27, \n",
    "               sample_28, sample_29, sample_30, sample_31, sample_32, sample_33, sample_34, sample_35, sample_36, \n",
    "               sample_37, sample_38, sample_39, sample_40])\n",
    "    #fit kmeans model with k clusters\n",
    "    kmeans = KMeans(n_clusters=15, max_iter=300, random_state=4) \n",
    "    kmeans.fit(X)\n",
    "    \n",
    "    #Adding cluster labels to gene dataframe\n",
    "    clusters_df = pd.DataFrame(kmeans.labels_.tolist(), index = X.index, columns = ['cluster_id'])\n",
    "    df6_clusters = pd.concat([X, clusters_df], axis = 1)\n",
    "    return df6_clusters.groupby('cluster_id').count().iloc[:,0].tolist()"
   ]
  },
  {
   "cell_type": "code",
   "execution_count": 12,
   "metadata": {
    "collapsed": true
   },
   "outputs": [],
   "source": [
    "client.deploy('genes_num', genes_num, \n",
    "              'Returns the number of genes in each cluster',override = True)"
   ]
  },
  {
   "cell_type": "code",
   "execution_count": null,
   "metadata": {
    "collapsed": true
   },
   "outputs": [],
   "source": []
  },
  {
   "cell_type": "code",
   "execution_count": null,
   "metadata": {
    "collapsed": true
   },
   "outputs": [],
   "source": [
    "#Cluster Name\n",
    "def clusters_name(sample_1, sample_2, sample_3, sample_4, sample_5, sample_6, sample_7, sample_8, sample_9, \n",
    "               sample_10, sample_11, sample_12, sample_13, sample_14, sample_15, sample_16, sample_17, sample_18, \n",
    "               sample_19, sample_20, sample_21, sample_22, sample_23, sample_24, sample_25, sample_26, sample_27, \n",
    "               sample_28, sample_29, sample_30, sample_31, sample_32, sample_33, sample_34, sample_35, sample_36, \n",
    "               sample_37, sample_38, sample_39, sample_40):\n",
    "    import numpy as np\n",
    "    from sklearn.cluster import KMeans\n",
    "    \n",
    "    X = np.column_stack([sample_1, sample_2, sample_3, sample_4, sample_5, sample_6, sample_7, sample_8, sample_9, \n",
    "               sample_10, sample_11, sample_12, sample_13, sample_14, sample_15, sample_16, sample_17, sample_18, \n",
    "               sample_19, sample_20, sample_21, sample_22, sample_23, sample_24, sample_25, sample_26, sample_27, \n",
    "               sample_28, sample_29, sample_30, sample_31, sample_32, sample_33, sample_34, sample_35, sample_36, \n",
    "               sample_37, sample_38, sample_39, sample_40])\n",
    "    #fit kmeans model with k clusters\n",
    "    kmeans = KMeans(n_clusters=15, max_iter=300, random_state=4) \n",
    "    kmeans.fit(X)\n",
    "    \n",
    "    return kmeans.labels_.astype(str).tolist()"
   ]
  },
  {
   "cell_type": "code",
   "execution_count": null,
   "metadata": {
    "collapsed": true
   },
   "outputs": [],
   "source": []
  },
  {
   "cell_type": "code",
   "execution_count": null,
   "metadata": {
    "collapsed": true
   },
   "outputs": [],
   "source": []
  }
 ],
 "metadata": {
  "kernelspec": {
   "display_name": "Python 3",
   "language": "python",
   "name": "python3"
  },
  "language_info": {
   "codemirror_mode": {
    "name": "ipython",
    "version": 3
   },
   "file_extension": ".py",
   "mimetype": "text/x-python",
   "name": "python",
   "nbconvert_exporter": "python",
   "pygments_lexer": "ipython3",
   "version": "3.6.1"
  }
 },
 "nbformat": 4,
 "nbformat_minor": 2
}
